{
 "cells": [
  {
   "cell_type": "code",
   "execution_count": 22,
   "id": "c7f2eebf-5e3c-4c15-9084-3d72d5fae9e7",
   "metadata": {},
   "outputs": [],
   "source": [
    "import cv2\n",
    "import numpy as np"
   ]
  },
  {
   "cell_type": "code",
   "execution_count": 23,
   "id": "982bc8c5-d2e0-4d1d-811d-9dce96df8138",
   "metadata": {},
   "outputs": [],
   "source": [
    "img = cv2.imread(\"C:\\\\Users\\\\geetha\\\\Downloads\\\\-Iron-Man-the-avengers-38357189-2560-1600.jpg\")"
   ]
  },
  {
   "cell_type": "code",
   "execution_count": 24,
   "id": "dea860e2-23e0-445f-9f83-fcc505a4e7bb",
   "metadata": {},
   "outputs": [],
   "source": [
    "img = cv2.resize(img,(700,500))"
   ]
  },
  {
   "cell_type": "code",
   "execution_count": 25,
   "id": "e82ab33c-9c40-4a99-a400-87f9968f2df9",
   "metadata": {},
   "outputs": [],
   "source": [
    "img = cv2.bilateralFilter(img,9,75,75)"
   ]
  },
  {
   "cell_type": "code",
   "execution_count": 26,
   "id": "fa80d698-253a-49de-8b6b-5f276963c0fe",
   "metadata": {},
   "outputs": [
    {
     "data": {
      "text/plain": [
       "(500, 700, 3)"
      ]
     },
     "execution_count": 26,
     "metadata": {},
     "output_type": "execute_result"
    }
   ],
   "source": [
    "img.shape"
   ]
  },
  {
   "cell_type": "code",
   "execution_count": 27,
   "id": "6a47c63d-814c-4148-aecd-ecc7bc9c1556",
   "metadata": {
    "scrolled": true
   },
   "outputs": [
    {
     "data": {
      "text/plain": [
       "array([[[217, 208, 172],\n",
       "        [217, 208, 172],\n",
       "        [218, 209, 173],\n",
       "        ...,\n",
       "        [255, 255, 255],\n",
       "        [255, 255, 255],\n",
       "        [255, 255, 255]],\n",
       "\n",
       "       [[217, 208, 172],\n",
       "        [218, 209, 173],\n",
       "        [217, 208, 173],\n",
       "        ...,\n",
       "        [255, 255, 255],\n",
       "        [255, 255, 255],\n",
       "        [255, 255, 255]],\n",
       "\n",
       "       [[218, 209, 173],\n",
       "        [217, 208, 172],\n",
       "        [216, 207, 171],\n",
       "        ...,\n",
       "        [255, 255, 255],\n",
       "        [255, 255, 255],\n",
       "        [255, 255, 255]],\n",
       "\n",
       "       ...,\n",
       "\n",
       "       [[  5,  11,  19],\n",
       "        [  6,  12,  18],\n",
       "        [  7,  13,  17],\n",
       "        ...,\n",
       "        [117, 118, 106],\n",
       "        [116, 116, 104],\n",
       "        [116, 117, 105]],\n",
       "\n",
       "       [[  5,  11,  19],\n",
       "        [  6,  12,  19],\n",
       "        [  7,  13,  18],\n",
       "        ...,\n",
       "        [120, 123, 111],\n",
       "        [132, 136, 124],\n",
       "        [134, 138, 126]],\n",
       "\n",
       "       [[  5,  11,  20],\n",
       "        [  6,  12,  19],\n",
       "        [  7,  13,  18],\n",
       "        ...,\n",
       "        [167, 177, 170],\n",
       "        [175, 186, 179],\n",
       "        [170, 180, 173]]], dtype=uint8)"
      ]
     },
     "execution_count": 27,
     "metadata": {},
     "output_type": "execute_result"
    }
   ],
   "source": [
    "img"
   ]
  },
  {
   "cell_type": "code",
   "execution_count": 28,
   "id": "cac5f311-bd9f-4a0d-9020-9904bfbb7c4f",
   "metadata": {},
   "outputs": [],
   "source": [
    " gray = cv2.cvtColor(img, cv2.COLOR_BGR2GRAY)\n",
    "gray_blurred = cv2.medianBlur(gray, 5)"
   ]
  },
  {
   "cell_type": "code",
   "execution_count": 29,
   "id": "6bdbda74-ba95-4f2e-bebd-2a0d872ba86d",
   "metadata": {},
   "outputs": [],
   "source": [
    "edges = cv2.adaptiveThreshold(gray_blurred, 255, cv2.ADAPTIVE_THRESH_MEAN_C, \n",
    "                                  cv2.THRESH_BINARY, blockSize=9, C=9)"
   ]
  },
  {
   "cell_type": "code",
   "execution_count": 30,
   "id": "dab19b67-a199-414f-9f4e-0f8bb0fdc126",
   "metadata": {},
   "outputs": [],
   "source": [
    "cartoon = cv2.bitwise_and(img, img, mask=edges)"
   ]
  },
  {
   "cell_type": "code",
   "execution_count": 31,
   "id": "391c4452-f2ec-4e6b-93c3-e18e5df60ebb",
   "metadata": {},
   "outputs": [],
   "source": [
    "cv2.imshow('Image', img)\n",
    "cv2.imshow('Cartoon ', cartoon)\n",
    "cv2.waitKey(0)\n",
    "cv2.destroyAllWindows()"
   ]
  },
  {
   "cell_type": "code",
   "execution_count": null,
   "id": "ceef5c63-bd33-49eb-9e3d-d39af2015a30",
   "metadata": {},
   "outputs": [],
   "source": []
  },
  {
   "cell_type": "code",
   "execution_count": null,
   "id": "e66ac075-d2d1-48c7-b61b-bb16af871466",
   "metadata": {},
   "outputs": [],
   "source": []
  }
 ],
 "metadata": {
  "kernelspec": {
   "display_name": "Python 3 (ipykernel)",
   "language": "python",
   "name": "python3"
  },
  "language_info": {
   "codemirror_mode": {
    "name": "ipython",
    "version": 3
   },
   "file_extension": ".py",
   "mimetype": "text/x-python",
   "name": "python",
   "nbconvert_exporter": "python",
   "pygments_lexer": "ipython3",
   "version": "3.11.8"
  }
 },
 "nbformat": 4,
 "nbformat_minor": 5
}
